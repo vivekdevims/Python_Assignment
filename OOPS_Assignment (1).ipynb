{
  "cells": [
    {
      "cell_type": "markdown",
      "metadata": {
        "id": "3eW2BGeCnoFF"
      },
      "source": [
        "#  OOPS in Python Assignment\n",
        "\n",
        "Kindly Submit this assignment using this Google form link- https://forms.gle/4oedWNwR38Z8j1LeA\n",
        "\n",
        "\n"
      ]
    },
    {
      "cell_type": "markdown",
      "metadata": {
        "id": "-YeIqDCxnoFH"
      },
      "source": [
        "## Q1. Create a Simple Class\n",
        "\n",
        "Create a class named `Student` that stores the following information:\n",
        "- name\n",
        "- roll number\n",
        "\n",
        "Then, create one object of that class and print both attributes.\n",
        "\n",
        "**Hint:** Use `__init__` to initialize the attributes."
      ]
    },
    {
      "cell_type": "code",
      "metadata": {
        "id": "O2lkAu64noFH",
        "colab": {
          "base_uri": "https://localhost:8080/"
        },
        "outputId": "2455505a-db32-405c-9306-d6f877c18949"
      },
      "source": [
        "# Write your code here\n",
        "class Student:\n",
        "   def __init__(self,name,roll):\n",
        "     self.name=name\n",
        "     self.roll=roll\n",
        "s1=Student(\"vivek\",3)\n",
        "print(s1.name)\n",
        "print(s1.roll)"
      ],
      "execution_count": 1,
      "outputs": [
        {
          "output_type": "stream",
          "name": "stdout",
          "text": [
            "vivek\n",
            "3\n"
          ]
        }
      ]
    },
    {
      "cell_type": "markdown",
      "metadata": {
        "id": "8qtugqEInoFI"
      },
      "source": [
        "## Q2. Add a Method to a Class\n",
        "\n",
        "Extend your `Student` class to include a method named `display_info()` that prints the student's name and roll number in a proper sentence.\n",
        "\n",
        "**Goal:** Learn how to define methods inside a class."
      ]
    },
    {
      "cell_type": "code",
      "metadata": {
        "id": "a7QK5IBVnoFJ",
        "colab": {
          "base_uri": "https://localhost:8080/"
        },
        "outputId": "b42f1f8c-b238-48ee-87c9-f70aa6c5854a"
      },
      "source": [
        "# Write your code here\n",
        "# Example output -> 'Student Name: Riya, Roll No: 101'\n",
        "class Student:\n",
        "   def __init__(self,name,roll):\n",
        "     self.name=name\n",
        "     self.roll=roll\n",
        "   def display_info(self):\n",
        "     print(f'Student Name: {self.name}, Roll No: {self.roll}')\n",
        "s1=Student(\"vivek\",3)\n",
        "s1.display_info()"
      ],
      "execution_count": 2,
      "outputs": [
        {
          "output_type": "stream",
          "name": "stdout",
          "text": [
            "Student Name: vivek, Roll No: 3\n"
          ]
        }
      ]
    },
    {
      "cell_type": "markdown",
      "metadata": {
        "id": "Hbxw2v30noFJ"
      },
      "source": [
        "## Q3. Employee Salary Class\n",
        "\n",
        "Create a class `Employee` that has:\n",
        "- `name` and `salary` attributes\n",
        "- a method `bonus()` that adds 10% bonus to the salary and prints the new salary.\n",
        "\n",
        "**Hint:** Bonus = `salary * 0.10`"
      ]
    },
    {
      "cell_type": "code",
      "metadata": {
        "id": "0hX7fLbEnoFJ",
        "colab": {
          "base_uri": "https://localhost:8080/"
        },
        "outputId": "26933863-1ec8-430b-bfc9-4cc30037ddc3"
      },
      "source": [
        "class Employee:\n",
        "  def __init__(self,name,salary):\n",
        "    self.name=name\n",
        "    self.salary=salary\n",
        "  def bonus(self):\n",
        "    return self.salary*0.10+self.salary\n",
        "e1=Employee(\"vivek\",10000)\n",
        "e1.bonus()"
      ],
      "execution_count": 4,
      "outputs": [
        {
          "output_type": "execute_result",
          "data": {
            "text/plain": [
              "11000.0"
            ]
          },
          "metadata": {},
          "execution_count": 4
        }
      ]
    },
    {
      "cell_type": "markdown",
      "metadata": {
        "id": "se7-VekQnoFJ"
      },
      "source": [
        "## Q4. Encapsulation Example\n",
        "\n",
        "Create a class `BankAccount` with a private attribute `__balance`.\n",
        "- Create methods `deposit(amount)` and `get_balance()`.\n",
        "- Prevent direct access to `__balance`.\n",
        "\n",
        "**Hint:** Use double underscores (`__`) before variable name to make it private."
      ]
    },
    {
      "cell_type": "code",
      "metadata": {
        "id": "pqSvbQRRnoFK",
        "colab": {
          "base_uri": "https://localhost:8080/"
        },
        "outputId": "35821bea-7bc5-4fa2-ef0e-40a04a7159b3"
      },
      "source": [
        "class BankAccount:\n",
        "  def __init__(self,balance):\n",
        "    self.__balance=balance\n",
        "  def deposit(self,amount):\n",
        "    self.__balance+=amount\n",
        "  def get_balance(self):\n",
        "    return self.__balance\n",
        "acc1=BankAccount(1000)\n",
        "acc1.deposit(500)\n",
        "acc1.get_balance()"
      ],
      "execution_count": 5,
      "outputs": [
        {
          "output_type": "execute_result",
          "data": {
            "text/plain": [
              "1500"
            ]
          },
          "metadata": {},
          "execution_count": 5
        }
      ]
    },
    {
      "cell_type": "markdown",
      "metadata": {
        "id": "Yuy41M52noFK"
      },
      "source": [
        "## Q5. Inheritance Example (Simple One)\n",
        "\n",
        "Create two classes:\n",
        "- `Person` → has attribute `name` and method `speak()` that prints \"Hello, I am [name]\"\n",
        "- `DataAnalyst` → inherits from `Person` and adds a new method `analyze()` that prints \"Analyzing data using Python...\"\n",
        "\n",
        "Then create an object of `DataAnalyst` and call both methods."
      ]
    },
    {
      "cell_type": "code",
      "metadata": {
        "id": "XASy1ru9noFK",
        "colab": {
          "base_uri": "https://localhost:8080/"
        },
        "outputId": "178ad06f-6753-434e-87ec-eedcc00dfd15"
      },
      "source": [
        "class Person:\n",
        "  def __init__(self,name):\n",
        "    self.name=name\n",
        "  def speak(self):\n",
        "    print(f\"Hello, I am {self.name}\")\n",
        "class DataAnalyst(Person):\n",
        "  def analyze(self):\n",
        "    print(\"Analyzing data using Python...\")\n",
        "da1=DataAnalyst(\"vivek\")\n",
        "da1.speak()\n",
        "da1.analyze()"
      ],
      "execution_count": 9,
      "outputs": [
        {
          "output_type": "stream",
          "name": "stdout",
          "text": [
            "Hello, I am vivek\n",
            "Analyzing data using Python...\n"
          ]
        }
      ]
    },
    {
      "cell_type": "markdown",
      "metadata": {
        "id": "1eYZ6i1SnoFK"
      },
      "source": [
        "## Q6. (Medium Level) Real-Life Problem — Product Sales Tracker\n",
        "\n",
        "You are working as a **Data Analyst** in a retail company.\n",
        "Create a class `Product` with attributes:\n",
        "- `name`\n",
        "- `price`\n",
        "- `quantity`\n",
        "\n",
        "Add the following methods:\n",
        "- `total_value()` → returns total value of product (price × quantity)\n",
        "- `apply_discount(percent)` → reduces the price by given percent.\n",
        "\n",
        "Finally, create two product objects and print their total values **before and after discount.**"
      ]
    },
    {
      "cell_type": "code",
      "metadata": {
        "id": "e_KbiMG6noFK",
        "colab": {
          "base_uri": "https://localhost:8080/"
        },
        "outputId": "622a450f-de5c-4cd8-9835-db81876692a9"
      },
      "source": [
        "# Write your code here\n",
        "# Example Output:\n",
        "# Total value before discount: 2000\n",
        "# Total value after 10% discount: 1800\n",
        "class Product:\n",
        "  def __init__(self,name,price,quantity):\n",
        "    self.name=name\n",
        "    self.price=price\n",
        "    self.quantity=quantity\n",
        "  def total_value(self):\n",
        "    return self.price*self.quantity\n",
        "  def apply_discount(self,percent):\n",
        "    return self.price*(1-percent/100)\n",
        "p1=Product(\"pen\",10,10)\n",
        "p2=Product(\"pencil\",5,10)\n",
        "print(f\"Total value before discount: {p1.total_value()}\")\n",
        "print(f\"Total value after 10% discount: {p1.apply_discount(5)}\")\n",
        "\n"
      ],
      "execution_count": 11,
      "outputs": [
        {
          "output_type": "stream",
          "name": "stdout",
          "text": [
            "Total value before discount: 100\n",
            "Total value after 10% discount: 9.5\n"
          ]
        }
      ]
    },
    {
      "cell_type": "markdown",
      "metadata": {
        "id": "FFjJ0An4noFK"
      },
      "source": [
        "\n",
        "\n",
        "##_Remember: Practice builds clarity._"
      ]
    }
  ],
  "metadata": {
    "kernelspec": {
      "display_name": "Python 3",
      "language": "python",
      "name": "python3"
    },
    "language_info": {
      "name": "python",
      "version": "3.10"
    },
    "colab": {
      "provenance": []
    }
  },
  "nbformat": 4,
  "nbformat_minor": 0
}