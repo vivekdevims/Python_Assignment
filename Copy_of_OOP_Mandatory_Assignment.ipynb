{
  "cells": [
    {
      "cell_type": "markdown",
      "metadata": {
        "id": "view-in-github",
        "colab_type": "text"
      },
      "source": [
        "<a href=\"https://colab.research.google.com/github/vivekdevims/python/blob/main/Copy_of_OOP_Mandatory_Assignment.ipynb\" target=\"_parent\"><img src=\"https://colab.research.google.com/assets/colab-badge.svg\" alt=\"Open In Colab\"/></a>"
      ]
    },
    {
      "cell_type": "markdown",
      "id": "e9977157",
      "metadata": {
        "id": "e9977157"
      },
      "source": [
        "# Object-Oriented Programming (OOP) - Practice Assignment\n",
        "\n",
        "This assignment will help you understand the basics of Object-Oriented Programming (OOP) in Python.  \n",
        "Each question is written in a simple way so that you know exactly what to do.\n",
        "\n",
        "**Structure:**\n",
        "- 6 Easy Questions  \n",
        "- 2 Medium Questions  \n",
        "- 2 Hard Questions\n",
        "\n",
        "Follow each question carefully and try to run the examples step by step.\n"
      ]
    },
    {
      "cell_type": "markdown",
      "id": "522a3c58",
      "metadata": {
        "id": "522a3c58"
      },
      "source": [
        "### Question 1 (Easy)\n",
        "**Create a Class and Object**\n",
        "\n",
        "Create a class named `Student` with one attribute `name`.  \n",
        "Then create an object of this class and print the student's name.\n",
        "\n",
        "*Hint:* Use the `__init__` method to initialize the name attribute."
      ]
    },
    {
      "cell_type": "code",
      "source": [
        "class Student:\n",
        "  def __init__(self, name):\n",
        "    self.name = name\n",
        "s1=Student('vivek')\n",
        "print(s1.name)"
      ],
      "metadata": {
        "id": "eoxW1xeIzyDT",
        "colab": {
          "base_uri": "https://localhost:8080/"
        },
        "outputId": "54719cdb-4d3b-43ed-951a-f90460883a42"
      },
      "id": "eoxW1xeIzyDT",
      "execution_count": 1,
      "outputs": [
        {
          "output_type": "stream",
          "name": "stdout",
          "text": [
            "vivek\n"
          ]
        }
      ]
    },
    {
      "cell_type": "markdown",
      "id": "62eb0fc1",
      "metadata": {
        "id": "62eb0fc1"
      },
      "source": [
        "### Question 2 (Easy)\n",
        "**Add Multiple Attributes**\n",
        "\n",
        "Create a class `Car` that has two attributes: `brand` and `year`.  \n",
        "Create two objects of this class for two different cars and print their details using `print()`."
      ]
    },
    {
      "cell_type": "code",
      "source": [
        "class Car:\n",
        "  def __init__(self,brand,year):\n",
        "    self.brand=brand\n",
        "    self.year=year\n",
        "c1=Car('BMW',2019)\n",
        "c2=Car('AUDI',2020)\n",
        "print(c1.brand,c1.year)\n",
        "print(c2.brand,c2.year)"
      ],
      "metadata": {
        "id": "aDLB9Ourz1fb",
        "colab": {
          "base_uri": "https://localhost:8080/"
        },
        "outputId": "42f8c2ce-c448-4afb-b220-62eed4e6841d"
      },
      "id": "aDLB9Ourz1fb",
      "execution_count": 2,
      "outputs": [
        {
          "output_type": "stream",
          "name": "stdout",
          "text": [
            "BMW 2019\n",
            "AUDI 2020\n"
          ]
        }
      ]
    },
    {
      "cell_type": "markdown",
      "id": "009120a2",
      "metadata": {
        "id": "009120a2"
      },
      "source": [
        "### Question 3 (Easy)\n",
        "**Methods in a Class**\n",
        "\n",
        "Create a class `Circle` with one attribute `radius`.  \n",
        "Add a method `area()` that returns the area of the circle.\n",
        "\n",
        "*Formula:* Area = π × radius²"
      ]
    },
    {
      "cell_type": "code",
      "source": [
        "class Circle:\n",
        "  def __init__(self,radius):\n",
        "    self.radius=radius\n",
        "  def area(self):\n",
        "    return 3.14*self.radius*self.radius\n",
        "c1=Circle(5)\n",
        "print(c1.area())"
      ],
      "metadata": {
        "id": "yNLySqc9z2PO",
        "colab": {
          "base_uri": "https://localhost:8080/"
        },
        "outputId": "ce9338bd-6ce5-4020-ad4c-ff0a11f7eb5f"
      },
      "id": "yNLySqc9z2PO",
      "execution_count": 3,
      "outputs": [
        {
          "output_type": "stream",
          "name": "stdout",
          "text": [
            "78.5\n"
          ]
        }
      ]
    },
    {
      "cell_type": "markdown",
      "id": "0b760f6d",
      "metadata": {
        "id": "0b760f6d"
      },
      "source": [
        "### Question 4 (Easy)\n",
        "**Default and Parameterized Constructor**\n",
        "\n",
        "Create a class `Book` that takes the book title and author name as parameters when creating an object.  \n",
        "Also, create one object without any arguments and set default values like `'Unknown Title'` and `'Unknown Author'`."
      ]
    },
    {
      "cell_type": "code",
      "source": [
        "class Book:\n",
        "  def __init__(self,title,author):\n",
        "    self.title=title\n",
        "    self.author=author\n",
        "b1=Book('','')\n",
        "b2=Book('',' ')"
      ],
      "metadata": {
        "id": "pbYx_DZDz2xR"
      },
      "id": "pbYx_DZDz2xR",
      "execution_count": 4,
      "outputs": []
    },
    {
      "cell_type": "markdown",
      "id": "67ac94fd",
      "metadata": {
        "id": "67ac94fd"
      },
      "source": [
        "### Question 5 (Easy)\n",
        "**Use of Self Keyword**\n",
        "\n",
        "Create a class `Employee` that has a method `display()` which prints `'This is an Employee class'`.  \n",
        "Then create one object and call the method using that object."
      ]
    },
    {
      "cell_type": "code",
      "source": [
        "class Employee:\n",
        "  def display(self):\n",
        "    print('This is an Employee class')\n",
        "e1=Employee()\n",
        "e1.display()"
      ],
      "metadata": {
        "id": "8JXQn5LCz3Qp"
      },
      "id": "8JXQn5LCz3Qp",
      "execution_count": null,
      "outputs": []
    },
    {
      "cell_type": "markdown",
      "id": "dce22c96",
      "metadata": {
        "id": "dce22c96"
      },
      "source": [
        "### Question 6 (Easy)\n",
        "**Simple Calculator Class**\n",
        "\n",
        "Create a class `Calculator` with methods for addition, subtraction, multiplication, and division.  \n",
        "Each method should take two numbers as parameters and return the result."
      ]
    },
    {
      "cell_type": "code",
      "source": [
        "class Calculator:\n",
        "  def __init__(self,a,b):\n",
        "    self.a=a\n",
        "    self.b=b\n",
        "  def add(self):\n",
        "    return self.a+self.b\n",
        "  def sub(self):\n",
        "    return self.a-self.b\n",
        "  def mul(self):\n",
        "    return self.a*self.b\n",
        "  def div(self):\n",
        "    return self.a/self.b\n",
        "c1=Calculator(2,3)\n",
        "print(c1.add())\n",
        "print(c1.sub())\n",
        "print(c1.mul())\n",
        "print(c1.div())"
      ],
      "metadata": {
        "id": "WeDQIvebz3uF",
        "colab": {
          "base_uri": "https://localhost:8080/"
        },
        "outputId": "9fae8604-7682-4b5a-c0f6-f8e2cbe39eb6"
      },
      "id": "WeDQIvebz3uF",
      "execution_count": 8,
      "outputs": [
        {
          "output_type": "stream",
          "name": "stdout",
          "text": [
            "5\n",
            "-1\n",
            "6\n",
            "0.6666666666666666\n"
          ]
        }
      ]
    },
    {
      "cell_type": "markdown",
      "id": "d5f60974",
      "metadata": {
        "id": "d5f60974"
      },
      "source": [
        "### Question 7 (Medium)\n",
        "**Working with Multiple Objects**\n",
        "\n",
        "Create a class `Student` with attributes `name`, `marks1`, `marks2`, and `marks3`.  \n",
        "Add a method `average()` that returns the average marks of the student.  \n",
        "Create objects for three students and print their average marks."
      ]
    },
    {
      "cell_type": "code",
      "source": [
        "class Student:\n",
        "  def __init__(self,name,marks1,marks2,marks3):\n",
        "    self.name=name\n",
        "    self.marks1=marks1\n",
        "    self.marks2=marks2\n",
        "    self.marks3=marks3\n",
        "  def average(self):\n",
        "    return (self.marks1+self.marks2+self.marks3)/3\n",
        "s1=Student('vivek',20,30,40)\n",
        "s1.average()"
      ],
      "metadata": {
        "id": "un7JLb6dz4MD",
        "colab": {
          "base_uri": "https://localhost:8080/"
        },
        "outputId": "cd6d58e5-49a1-4adf-f7c4-bd53780178b0"
      },
      "id": "un7JLb6dz4MD",
      "execution_count": 10,
      "outputs": [
        {
          "output_type": "execute_result",
          "data": {
            "text/plain": [
              "30.0"
            ]
          },
          "metadata": {},
          "execution_count": 10
        }
      ]
    },
    {
      "cell_type": "markdown",
      "id": "6047ad11",
      "metadata": {
        "id": "6047ad11"
      },
      "source": [
        "### Question 8 (Medium)\n",
        "**Inheritance Concept**\n",
        "\n",
        "Create a base class `Person` with an attribute `name` and a method `show_name()`.  \n",
        "Then create a derived class `Teacher` that adds a new attribute `subject` and a method `show_subject()`.  \n",
        "Create an object of `Teacher` and call both methods."
      ]
    },
    {
      "cell_type": "code",
      "source": [
        "class Person:\n",
        "  def __init__(self,name):\n",
        "    self.name=name\n",
        "  def show_name(self):\n",
        "    print(self.name)\n",
        "class Teacher(Person):\n",
        "  def __init__(self,name,subject):\n",
        "    Person.__init__(self,name)\n",
        "    self.subject=subject\n",
        "  def show_subject(self):\n",
        "    print(self.subject)\n",
        "t1=Teacher('vivek','maths')\n",
        "t1.show_name()\n",
        "t1.show_subject()"
      ],
      "metadata": {
        "id": "3RF85lsjz4sT",
        "colab": {
          "base_uri": "https://localhost:8080/"
        },
        "outputId": "1c354eca-c152-49a9-9a87-ae60194e8d7c"
      },
      "id": "3RF85lsjz4sT",
      "execution_count": 11,
      "outputs": [
        {
          "output_type": "stream",
          "name": "stdout",
          "text": [
            "vivek\n",
            "maths\n"
          ]
        }
      ]
    },
    {
      "cell_type": "markdown",
      "id": "062ac860",
      "metadata": {
        "id": "062ac860"
      },
      "source": [
        "### Question 9 (Hard)\n",
        "**Encapsulation Example**\n",
        "\n",
        "Create a class `BankAccount` with attributes `__balance` (private) and `account_holder`.  \n",
        "Add methods `deposit(amount)` and `withdraw(amount)` to update the balance safely.  \n",
        "Print the final balance only through a method `show_balance()`."
      ]
    },
    {
      "cell_type": "code",
      "source": [
        "class Bank_account:\n",
        "  def __init__(self,__balance,acc_holder):\n",
        "    self.__balance=__balance\n",
        "    self.acc_holder=acc_holder\n",
        "  def deposit(self,amount):\n",
        "    self.__balance+=amount\n",
        "  def withdraw(self,amount):\n",
        "    if self.__balance<amount:\n",
        "      print('insufficient balance')\n",
        "    else:\n",
        "      self.__balance-=amount\n",
        "  def show_balance(self):\n",
        "      print(self.__balance)\n",
        "b1=Bank_account(1000,'vivek')\n",
        "b1.deposit(1000)\n",
        "b1.withdraw(5000)\n",
        "b1.show_balance()"
      ],
      "metadata": {
        "id": "F6gWsUOFz5XN",
        "colab": {
          "base_uri": "https://localhost:8080/"
        },
        "outputId": "c12c96fc-c422-4cac-e46c-786f4ee3ab20"
      },
      "id": "F6gWsUOFz5XN",
      "execution_count": 14,
      "outputs": [
        {
          "output_type": "stream",
          "name": "stdout",
          "text": [
            "insufficient balance\n",
            "2000\n"
          ]
        }
      ]
    },
    {
      "cell_type": "markdown",
      "id": "f10a7d88",
      "metadata": {
        "id": "f10a7d88"
      },
      "source": [
        "### Question 10 (Hard)\n",
        "**Polymorphism Example**\n",
        "\n",
        "Create two classes: `Dog` and `Cat`.  \n",
        "Both should have a method named `speak()` that prints the sound of the animal.  \n",
        "Write a function `animal_sound(animal)` that calls the `speak()` method of any animal passed to it.\n",
        "\n",
        "*Hint:* This shows how the same method name can have different behaviors depending on the object type."
      ]
    },
    {
      "cell_type": "code",
      "source": [
        "class Dog:\n",
        "  def speak(self):\n",
        "    print('bark')\n",
        "class Cat:\n",
        "  def speak(self):\n",
        "    print('meow')\n",
        "def animal_sound(animal):\n",
        "  animal.speak()\n",
        "d1=Dog()\n",
        "c1=Cat()\n",
        "animal_sound(d1)\n",
        "animal_sound(c1)"
      ],
      "metadata": {
        "id": "tvczT-hEz6Kd",
        "colab": {
          "base_uri": "https://localhost:8080/"
        },
        "outputId": "b356e311-446d-4c43-f7e1-e6fa5d689940"
      },
      "id": "tvczT-hEz6Kd",
      "execution_count": 15,
      "outputs": [
        {
          "output_type": "stream",
          "name": "stdout",
          "text": [
            "bark\n",
            "meow\n"
          ]
        }
      ]
    }
  ],
  "metadata": {
    "colab": {
      "provenance": [],
      "include_colab_link": true
    },
    "language_info": {
      "name": "python"
    },
    "kernelspec": {
      "name": "python3",
      "display_name": "Python 3"
    }
  },
  "nbformat": 4,
  "nbformat_minor": 5
}